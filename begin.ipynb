{
 "cells": [
  {
   "cell_type": "code",
   "execution_count": null,
   "metadata": {},
   "outputs": [],
   "source": [
    "# импортируем модуль os\n",
    "import os\n",
    " \n",
    "# выводим пути к папкам (dirpath) и наименования файлов (filenames) и после этого\n",
    "for dirpath, _, filenames in os.walk('/content/'):\n",
    "  \n",
    "  # во вложенном цикле проходимся по названиям файлов\n",
    "  for filename in filenames:\n",
    " \n",
    "    # и соединяем путь до папок и входящие в эти папки файлы\n",
    "    # с помощью метода path.join()\n",
    "    print(os.path.join(dirpath, filename))"
   ]
  },
  {
   "cell_type": "code",
   "execution_count": null,
   "metadata": {},
   "outputs": [],
   "source": [
    "# из библиотеки google.colab импортируем класс files\n",
    "from google.colab import files\n",
    " \n",
    "# создаем объект этого класса, применяем метод .upload()\n",
    "uploaded = files.upload()\n",
    "# посмотрим на тип значений словаря uploaded\n",
    "type(uploaded['test.csv'])"
   ]
  },
  {
   "cell_type": "code",
   "execution_count": null,
   "metadata": {},
   "outputs": [],
   "source": [
    "# обратимся к ключу словаря uploaded и применим метод .decode()\n",
    "uploaded_str = uploaded['test.csv'].decode()\n",
    " \n",
    "# на выходе получаем обычную строку\n",
    "print(type(uploaded_str))\n",
    "print(uploaded_str[:35])\n",
    "uploaded_list = uploaded_str.split('\\r\\n')\n",
    "type(uploaded_list)\n",
    "\n",
    "# не забудем создать индекс с помощью функции enumerate()\n",
    "for i, line in enumerate(uploaded_list):\n",
    " \n",
    "  # начнем выводить записи\n",
    "  print(line)\n",
    " \n",
    "  # когда дойдем до четвертой строки\n",
    "  if i == 3:\n",
    " \n",
    "    # прервемся\n",
    "    break"
   ]
  },
  {
   "cell_type": "code",
   "execution_count": null,
   "metadata": {},
   "outputs": [],
   "source": [
    "# передадим функции open() адрес файла\n",
    "# параметр 'r' означает, что мы хотим прочитать (read) файл\n",
    "f1 = open('/content/train.csv', 'r')\n",
    "# метод .read() помещает весь файл в одну строку\n",
    "# выведем первые 142 символа (если параметр не указывать, выведется все содержимое)\n",
    "print(f1.read(142))\n",
    " \n",
    "# в конце файл необходимо закрыть\n",
    "f1.close()\n",
    "\n",
    "# снова откроем файл\n",
    "f2 = open('/content/train.csv', 'r')\n",
    " \n",
    "# пройдемся по нашему объекту в цикле for и параллельно создадим индекс\n",
    "for i, line in enumerate(f2):\n",
    " \n",
    "    # выведем строки без служебных символов по краям\n",
    "    print(line.strip())\n",
    "    \n",
    "    # дойдя до четвертой строки, прервемся\n",
    "    if i == 3:\n",
    "      break\n",
    " \n",
    "# не забудем закрыть файл\n",
    "f2.close()\n",
    "\n",
    "# скажем Питону: \"открой файл и назови его f3\"\n",
    "with open('/content/test.csv', 'r') as f3:\n",
    " \n",
    "  # \"пройдись по строкам без служебных символов\"\n",
    "  for i, line in enumerate(f3):\n",
    "    print(line.strip())\n",
    "    \n",
    "    # и \"прервись на четвертой строке\"\n",
    "    if i == 3:\n",
    "      break"
   ]
  },
  {
   "cell_type": "code",
   "execution_count": null,
   "metadata": {},
   "outputs": [],
   "source": [
    "# импортируем библиотеку\n",
    "import pandas as pd\n",
    " \n",
    "# применим функцию read_csv() и посмотрим на первые три записи файла train.csv\n",
    "train = pd.read_csv('/content/train.csv')\n",
    "train.head(3)\n",
    "\n",
    "# сделаем то же самое с файлом test.csv\n",
    "test = pd.read_csv('/content/test.csv')\n",
    "test.head(3)"
   ]
  }
 ],
 "metadata": {
  "language_info": {
   "name": "python"
  },
  "orig_nbformat": 4
 },
 "nbformat": 4,
 "nbformat_minor": 2
}
